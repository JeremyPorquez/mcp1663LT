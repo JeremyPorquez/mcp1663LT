{
 "cells": [
  {
   "cell_type": "code",
   "execution_count": 1,
   "metadata": {},
   "outputs": [],
   "source": [
    "%load_ext cython"
   ]
  },
  {
   "cell_type": "code",
   "execution_count": null,
   "metadata": {
    "pycharm": {
     "name": "#%%\n"
    }
   },
   "outputs": [],
   "source": [
    "%%cython\n",
    "\n",
    "from mcp1663LT import mcp1663LT\n",
    "import time\n",
    "\n",
    "cdef str path = \"0001:000c:02\"\n",
    "# \"0001:000c:02\"\n",
    "\n",
    "print(path)\n",
    "\n",
    "cdef float inc = 0.5\n",
    "cdef int data_points = int((5/inc) + 1)\n",
    "cdef float voltages[5]\n",
    "\n",
    "cdef float v = 0\n",
    "cdef int idx = 0\n",
    "cdef int jdx = 0\n",
    "for idx in range(data_points):\n",
    "    voltages[idx] = v\n",
    "    print(voltages[idx])\n",
    "    v += inc\n",
    "    v = round(v*10)/10\n",
    "\n",
    "print(f\"{time.strftime('%D %H:%M:%S')}\")\n",
    "while True:\n",
    "for idx in range(data_points):\n",
    "    for jdx in range(3):\n",
    "#         print(f\"{voltages[0]}\")\n",
    "        # device = mcp1663LT(path=path)\n",
    "        # device.setVoltage(v)\n",
    "        # device.getCurrentAndVoltage()\n",
    "        # print(f\"READING{i} \\t target voltage{v:.2f} \\t {device.vout} \\t {device.voltage:.2f} \\t {device.current:.2f}\")\n",
    "        # device.close()\n",
    "        time.sleep(0.005)\n",
    "    if idx == 0: print(f\"{time.strftime('%D %H:%M:%S')}\", end=\"\\r\")\n"
   ]
  },
  {
   "cell_type": "code",
   "execution_count": null,
   "metadata": {},
   "outputs": [],
   "source": []
  }
 ],
 "metadata": {
  "kernelspec": {
   "display_name": "Python 3",
   "language": "python",
   "name": "python3"
  },
  "language_info": {
   "codemirror_mode": {
    "name": "ipython",
    "version": 3
   },
   "file_extension": ".py",
   "mimetype": "text/x-python",
   "name": "python",
   "nbconvert_exporter": "python",
   "pygments_lexer": "ipython3",
   "version": "3.7.6"
  }
 },
 "nbformat": 4,
 "nbformat_minor": 1
}
